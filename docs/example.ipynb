{
    "cells": [
        {
            "cell_type": "markdown",
            "metadata": {},
            "source": [
                "# Example usage\n",
                "\n",
                "To use `num_theory` in a project:"
            ]
        },
        {
            "cell_type": "code",
            "execution_count": 6,
            "metadata": {},
            "outputs": [
                {
                    "name": "stdout",
                    "output_type": "stream",
                    "text": [
                        "0.1.0\n"
                    ]
                }
            ],
            "source": [
                "import num_theory\n",
                "\n",
                "print(num_theory.__version__)"
            ]
        },
        {
            "cell_type": "markdown",
            "metadata": {},
            "source": [
                "# Prime Factorization Package Documentation\n",
                "\n",
                "This notebook provides documentation for the `prime_factorization` function. The function computes the prime factorization of a given positive integer greater than 1."
            ]
        },
        {
            "cell_type": "markdown",
            "metadata": {},
            "source": [
                "## Installation\n",
                "\n",
                "To use the `prime_factorization` function, include it in your Python project by copying the function into your script or importing it from your package/module.\n",
                "\n",
                "If this function is part of a package, install the package as follows:\n",
                "\n",
                "```bash\n",
                "pip install num_theory\n",
                "```"
            ]
        },
        {
            "cell_type": "markdown",
            "metadata": {},
            "source": [
                "<!-- ## Function Overview\n",
                "\n",
                "### `prime_factorization(n)`\n",
                "This function computes the prime factorization of a given integer `n` and returns the result as a list of tuples. Each tuple represents a prime factor and its corresponding power.\n",
                "\n",
                "### Parameters\n",
                "- **`n`**: An integer to factorize. Must be a positive integer greater than 1.\n",
                "\n",
                "### Returns\n",
                "- **List of Tuples**: Each tuple contains a prime factor and its power.\n",
                "\n",
                "### Raises\n",
                "- **`ValueError`**: If the input `n` is not a positive integer greater than 1.\n",
                "\n",
                "### Notes\n",
                "- Uses trial division for factorization.\n",
                "- For large `n`, optimized algorithms like Pollard's Rho or the Quadratic Sieve are recommended. -->"
            ]
        },
        {
            "cell_type": "markdown",
            "metadata": {},
            "source": [
                "## Real World Application: Analyzing Prime Factor Distributions in Cryptography\n",
                "\n",
                "A cybersecurity researcher is investigating the factorization of large integers as part of a study on cryptographic algorithms, specifically RSA encryption. The security of RSA relies on the difficulty of factoring the product of two large prime numbers. To demonstrate this concept, the researcher uses the prime_factorization function to:  \n",
                "  1.\tFactorize smaller integers to explain the concept of prime factorization to a team of non-technical stakeholders.  \n",
                "  2.\tTest and validate a set of randomly generated composite numbers to confirm their factorization as part of the cryptographic key analysis process.  \n",
                "  3.\tAnalyze the distribution of prime factors in datasets of composite numbers to study patterns or anomalies that may reveal vulnerabilities in certain key-generation techniques.  \n",
                "\n",
                "This function serves as an educational tool and a basic analysis tool for smaller numbers, helping the researcher communicate and validate fundamental cryptographic concepts.  \n",
                "\n",
                "## Examples\n",
                "\n",
                "Below are examples demonstrating the use of the `prime_factorization` function."
            ]
        },
        {
            "cell_type": "code",
            "execution_count": 7,
            "metadata": {},
            "outputs": [
                {
                    "name": "stdout",
                    "output_type": "stream",
                    "text": [
                        "[(2, 2), (7, 1)]\n",
                        "[(2, 2), (5, 2)]\n",
                        "[(5, 1), (7, 1), (13, 1), (29, 1)]\n"
                    ]
                }
            ],
            "source": [
                "from num_theory.prime_factorization import prime_factorization\n",
                "\n",
                "# Example 1: Factorizing 28\n",
                "print(prime_factorization(28))  # Output: [(2, 2), (7, 1)]\n",
                "\n",
                "# Example 2: Factorizing 100\n",
                "print(prime_factorization(100))  # Output: [(2, 2), (5, 2)]\n",
                "\n",
                "# Example 3: Factorizing 13195\n",
                "print(prime_factorization(13195))  # Output: [(5, 1), (7, 1), (13, 1), (29, 1)]"
            ]
        },
        {
            "cell_type": "markdown",
            "metadata": {},
            "source": [
                "## Implementation"
            ]
        },
        {
            "cell_type": "markdown",
            "metadata": {},
            "source": [
                "## Additional Notes\n",
                "\n",
                "1. **Edge Cases**:\n",
                "   - Input validation ensures non-integers and integers <= 1 raise an error.\n",
                "\n",
                "2. **Performance**:\n",
                "   - Efficient for small numbers.\n",
                "   - May be slow for very large numbers due to the use of trial division.\n",
                "\n",
                "3. **Future Improvements**:\n",
                "   - Implement more advanced factorization algorithms for better performance on large inputs."
            ]
        },
        {
            "cell_type": "markdown",
            "metadata": {},
            "source": [
                "# Tutorial: get_primes()\n",
                "\n",
                "The \"get_primes()\" retrieves a list of all prime numbers under a given number. This list of prime numbers can aid you in solving Project Euler problems, creating hashing methods, as well as many other number theory and cryptography applications."
            ]
        },
        {
            "cell_type": "markdown",
            "metadata": {},
            "source": [
                "## Example 1: Project Euler's prime numbers sum.\n",
                "Project Euler's 10th problem states: \"Find the sum of all the primes below two million\". Using our \"get_primes()\" function trivializes this solution, as we can simply use Python's built-in \"sum()\" function with our function while passing 2,000,000 as the argument. Our function will retrieve the list of all primes under 2,000,000 and \"sum()\" will calculate thier sum to reach the answer."
            ]
        },
        {
            "cell_type": "code",
            "execution_count": 8,
            "metadata": {},
            "outputs": [
                {
                    "data": {
                        "text/plain": [
                            "142913828922"
                        ]
                    },
                    "execution_count": 8,
                    "metadata": {},
                    "output_type": "execute_result"
                }
            ],
            "source": [
                "from num_theory.get_primes import get_primes \n",
                "\n",
                "sum(get_primes(2000000))"
            ]
        },
        {
            "cell_type": "markdown",
            "metadata": {},
            "source": [
                "## Example 2: Hashing\n",
                "Let's say you want to create a simple hash function that hashes a given number into a number within the range of 0 and 255. You can use the modulo \"%\" operation alongside a sum of our \"get_primes()\" function's output to create a simple algorithm that achieves this. please note that this hashing function is too primitive for most practical uses and is only used here to provide an easy to understand example."
            ]
        },
        {
            "cell_type": "code",
            "execution_count": 9,
            "metadata": {},
            "outputs": [
                {
                    "name": "stdout",
                    "output_type": "stream",
                    "text": [
                        "201\n",
                        "58\n",
                        "100\n"
                    ]
                }
            ],
            "source": [
                "def simple_hash(num: int) -> int:\n",
                "    return sum(get_primes(num)) % 256\n",
                "\n",
                "print(simple_hash(2025))\n",
                "print(simple_hash(1999))\n",
                "print(simple_hash(23))"
            ]
        },
        {
            "cell_type": "markdown",
            "metadata": {},
            "source": [
                "## Additional notes\n",
                "The get_primes() function uses a custom Sieve of Eratosthenes algorithm to retrieve the list of prime numbers. It does this by initializing a list of all number under n, then it iterates through all of them from the bottom to the top and assigns their multiples as non-primes. Once done, it leaves you with a list containing only prime numbers under n. This algorithm has a time complexity of O(n log(log(n))) and a space complexity of O(n)."
            ]
        },
        {
            "cell_type": "markdown",
            "metadata": {},
            "source": [
                "# Tutorial: arithmetic_progression()\n",
                "\n",
                "Here we will demonstrate how to use the `arithmetic_progression` function to generate an arithmetic progression, compute the nth term, or calculate the sum of the first n terms."
            ]
        },
        {
            "cell_type": "code",
            "execution_count": 11,
            "metadata": {},
            "outputs": [],
            "source": [
                "# Imports\n",
                "from num_theory.arithmetic_progression import arithmetic_progression"
            ]
        },
        {
            "cell_type": "markdown",
            "metadata": {},
            "source": [
                "# Example 1: Saving for a Vacation\n",
                "You start saving $100 in the first month, increasing the amount by $10 every month. We'll calculate:\n",
                "- Total savings after 12 months\n",
                "- Amount saved in the 12th month\n",
                "- The savings progression"
            ]
        },
        {
            "cell_type": "code",
            "execution_count": 13,
            "metadata": {},
            "outputs": [
                {
                    "name": "stdout",
                    "output_type": "stream",
                    "text": [
                        "1860.0\n"
                    ]
                }
            ],
            "source": [
                "# Total amount saved in 12 months\n",
                "total_savings = arithmetic_progression(a=100, d=10, n=12, compute_sum=True)\n",
                "print(total_savings)  # Output: 1860.0"
            ]
        },
        {
            "cell_type": "code",
            "execution_count": 14,
            "metadata": {},
            "outputs": [
                {
                    "name": "stdout",
                    "output_type": "stream",
                    "text": [
                        "210\n"
                    ]
                }
            ],
            "source": [
                "# Deposit in the 12th month\n",
                "twelfth_deposit = arithmetic_progression(a=100, d=10, n=12, nth_term=True)\n",
                "print(twelfth_deposit)  # Output: 210"
            ]
        },
        {
            "cell_type": "code",
            "execution_count": 15,
            "metadata": {},
            "outputs": [
                {
                    "name": "stdout",
                    "output_type": "stream",
                    "text": [
                        "[100, 110, 120, 130, 140, 150, 160, 170, 180, 190, 200, 210]\n"
                    ]
                }
            ],
            "source": [
                "# Sequence of monthly deposits\n",
                "deposits = arithmetic_progression(a=100, d=10, n=12)\n",
                "print(deposits)  # Output: [100, 110, 120, 130, 140, 150, 160, 170, 180, 190, 200, 210]\n"
            ]
        },
        {
            "cell_type": "markdown",
            "metadata": {},
            "source": [
                "# Example 2: Salary Increment\n",
                "Imagine your starting salary is $50,000, and you get an annual increment of $3,000. You want to calculate:\n",
                "\n",
                "1. Your salary in the 5th year.\n",
                "2. The total earnings over 5 years.\n",
                "3. Your salary progression over the 5 years."
            ]
        },
        {
            "cell_type": "code",
            "execution_count": 16,
            "metadata": {},
            "outputs": [
                {
                    "name": "stdout",
                    "output_type": "stream",
                    "text": [
                        "62000\n"
                    ]
                }
            ],
            "source": [
                "# Salary in the 5th year\n",
                "fifth_year_salary = arithmetic_progression(a=50000, d=3000, n=5, nth_term=True)\n",
                "print(fifth_year_salary)  # Output: 62000"
            ]
        },
        {
            "cell_type": "code",
            "execution_count": 17,
            "metadata": {},
            "outputs": [
                {
                    "name": "stdout",
                    "output_type": "stream",
                    "text": [
                        "280000.0\n"
                    ]
                }
            ],
            "source": [
                "# Total earnings over 5 years\n",
                "total_earnings = arithmetic_progression(a=50000, d=3000, n=5, compute_sum=True)\n",
                "print(total_earnings)  # Output: 275000.0"
            ]
        },
        {
            "cell_type": "code",
            "execution_count": 18,
            "metadata": {},
            "outputs": [
                {
                    "name": "stdout",
                    "output_type": "stream",
                    "text": [
                        "[50000, 53000, 56000, 59000, 62000]\n"
                    ]
                }
            ],
            "source": [
                "# Salary progression over 5 years\n",
                "salary_progression = arithmetic_progression(a=50000, d=3000, n=5)\n",
                "print(salary_progression)  # Output: [50000, 53000, 56000, 59000, 62000]"
            ]
        }
    ],
    "metadata": {
        "kernelspec": {
            "display_name": "Python 3",
            "language": "python",
            "name": "python3"
        },
        "language_info": {
            "codemirror_mode": {
                "name": "ipython",
                "version": 3
            },
            "file_extension": ".py",
            "mimetype": "text/x-python",
            "name": "python",
            "nbconvert_exporter": "python",
            "pygments_lexer": "ipython3",
            "version": "3.8.5"
        }
    },
    "nbformat": 4,
    "nbformat_minor": 4
}
