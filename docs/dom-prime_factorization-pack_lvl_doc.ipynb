{
 "cells": [
  {
   "cell_type": "markdown",
   "metadata": {},
   "source": [
    "# Prime Factorization Package Documentation\n",
    "\n",
    "This notebook provides documentation for the `prime_factorization` function. The function computes the prime factorization of a given positive integer greater than 1."
   ]
  },
  {
   "cell_type": "markdown",
   "metadata": {},
   "source": [
    "## Installation\n",
    "\n",
    "To use the `prime_factorization` function, include it in your Python project by copying the function into your script or importing it from your package/module.\n",
    "\n",
    "If this function is part of a package, install the package as follows:\n",
    "\n",
    "```bash\n",
    "pip install <package_name>\n",
    "```\n",
    "\n",
    "Replace `<package_name>` with the name of the package containing this function."
   ]
  },
  {
   "cell_type": "markdown",
   "metadata": {},
   "source": [
    "## Function Overview\n",
    "\n",
    "### `prime_factorization(n)`\n",
    "This function computes the prime factorization of a given integer `n` and returns the result as a list of tuples. Each tuple represents a prime factor and its corresponding power.\n",
    "\n",
    "### Parameters\n",
    "- **`n`**: An integer to factorize. Must be a positive integer greater than 1.\n",
    "\n",
    "### Returns\n",
    "- **List of Tuples**: Each tuple contains a prime factor and its power.\n",
    "\n",
    "### Raises\n",
    "- **`ValueError`**: If the input `n` is not a positive integer greater than 1.\n",
    "\n",
    "### Notes\n",
    "- Uses trial division for factorization.\n",
    "- For large `n`, optimized algorithms like Pollard's Rho or the Quadratic Sieve are recommended."
   ]
  },
  {
   "cell_type": "markdown",
   "metadata": {},
   "source": [
    "## Examples\n",
    "\n",
    "Below are examples demonstrating the use of the `prime_factorization` function."
   ]
  },
  {
   "cell_type": "code",
   "execution_count": null,
   "metadata": {},
   "outputs": [],
   "source": [
    "# Example 1: Factorizing 28\n",
    "print(prime_factorization(28))  # Output: [(2, 2), (7, 1)]\n",
    "\n",
    "# Example 2: Factorizing 100\n",
    "print(prime_factorization(100))  # Output: [(2, 2), (5, 2)]\n",
    "\n",
    "# Example 3: Factorizing 13195\n",
    "print(prime_factorization(13195))  # Output: [(5, 1), (7, 1), (13, 1), (29, 1)]"
   ]
  },
  {
   "cell_type": "markdown",
   "metadata": {},
   "source": [
    "## Implementation"
   ]
  },
  {
   "cell_type": "code",
   "execution_count": null,
   "metadata": {},
   "outputs": [],
   "source": [
    "def prime_factorization(n):\n",
    "    \"\"\"\n",
    "    Compute the prime factorization of a given integer.\n",
    "\n",
    "    Parameters\n",
    "    ----------\n",
    "    n : int\n",
    "        The integer to factorize. Must be a positive integer greater than 1.\n",
    "\n",
    "    Returns\n",
    "    -------\n",
    "    list of tuple\n",
    "        A list of tuples where each tuple represents a prime factor and its corresponding power.\n",
    "        Example: For n=28, the output will be [(2, 2), (7, 1)], indicating 28 = 2^2 * 7^1.\n",
    "\n",
    "    Raises\n",
    "    ------\n",
    "    ValueError\n",
    "        If the input `n` is not a positive integer greater than 1.\n",
    "\n",
    "    Notes\n",
    "    -----\n",
    "    - This function uses trial division to determine the prime factors.\n",
    "    - For large values of `n`, consider optimized algorithms such as Pollard's Rho or\n",
    "      the Quadratic Sieve for better performance.\n",
    "    \"\"\"\n",
    "\n",
    "    # Defensive input validation\n",
    "    if not isinstance(n, int):\n",
    "        raise ValueError(\"Input must be an integer.\")\n",
    "    if n <= 1:\n",
    "        raise ValueError(\"Input must be a positive integer greater than 1.\")\n",
    "\n",
    "    # Prime factorization using trial division\n",
    "    factors = []\n",
    "    divisor = 2\n",
    "\n",
    "    while n > 1:\n",
    "        power = 0\n",
    "        while n % divisor == 0:\n",
    "            n //= divisor\n",
    "            power += 1\n",
    "        if power > 0:\n",
    "            factors.append((divisor, power))\n",
    "        divisor += 1\n",
    "        # Optimization: Stop if divisor squared is greater than n\n",
    "        if divisor * divisor > n:\n",
    "            break\n",
    "\n",
    "    # If n is still greater than 1, it must be a prime number\n",
    "    if n > 1:\n",
    "        factors.append((n, 1))\n",
    "\n",
    "    return factors"
   ]
  },
  {
   "cell_type": "markdown",
   "metadata": {},
   "source": [
    "## Additional Notes\n",
    "\n",
    "1. **Edge Cases**:\n",
    "   - Input validation ensures non-integers and integers <= 1 raise an error.\n",
    "\n",
    "2. **Performance**:\n",
    "   - Efficient for small numbers.\n",
    "   - May be slow for very large numbers due to the use of trial division.\n",
    "\n",
    "3. **Future Improvements**:\n",
    "   - Implement more advanced factorization algorithms for better performance on large inputs."
   ]
  }
 ]
}